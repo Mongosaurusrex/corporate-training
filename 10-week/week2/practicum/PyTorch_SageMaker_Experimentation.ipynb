{
 "cells": [
  {
   "cell_type": "code",
   "execution_count": 19,
   "metadata": {},
   "outputs": [],
   "source": [
    "import os\n",
    "import boto3\n",
    "import io\n",
    "import math\n",
    "\n",
    "import numpy as np\n",
    "import pandas as pd\n",
    "from sklearn.preprocessing import MinMaxScaler\n",
    "import torch\n",
    "from torch.autograd import Variable\n",
    "from sklearn.metrics import mean_squared_error\n",
    "import matplotlib.pyplot as plt\n",
    "%matplotlib inline  "
   ]
  },
  {
   "cell_type": "markdown",
   "metadata": {},
   "source": [
    "# Model definition"
   ]
  },
  {
   "cell_type": "code",
   "execution_count": 15,
   "metadata": {},
   "outputs": [],
   "source": [
    "class PyTorchLRModel(torch.nn.Module):\n",
    "\n",
    "    def __init__(self, input_dim, output_dim):\n",
    "\n",
    "        # call class constructor\n",
    "        super(PyTorchLRModel, self).__init__()\n",
    "\n",
    "        # use the nn package to create a linear layer\n",
    "        self.linear = torch.nn.Linear(input_dim, output_dim)\n",
    "\n",
    "    def forward(self, x):\n",
    "\n",
    "        # Define the \"forward\" pass of this model. Think of this\n",
    "        # for now as just the method that takes data input and\n",
    "        # passes this through the model to create output (i.e., a prediction).\n",
    "        out = self.linear(x)\n",
    "        return out\n",
    "\n",
    "def pytorch_lr_fit(x, y, learning_rate, epochs, lambda1, lambda2):\n",
    "    \"\"\"\n",
    "    Train a (potentially multiple) linear regresison model\n",
    "    using SGD and pytorch.\n",
    "\n",
    "    Args:\n",
    "        x - feature array, a numpy array\n",
    "        y - response array, a numpy array\n",
    "        learning_rate - learning rate used in SGD\n",
    "        epochs - number of epochs for the SGD loop\n",
    "        lambda1 - the l1 regularization rate\n",
    "        lambda2 - the l2 regularization rate\n",
    "    Returns:\n",
    "        The trained model\n",
    "    \"\"\"\n",
    "\n",
    "    # define the number of features that we expect as input\n",
    "    # (in input_dimension), and the number of output features\n",
    "    # (in output_dimension).\n",
    "    input_dimension = x.ndim\n",
    "    output_dimension = y.ndim\n",
    "\n",
    "    # prep the shapes of x and y for pytorch\n",
    "    if input_dimension == 1:\n",
    "        x = x[:, np.newaxis]\n",
    "    else:\n",
    "        input_dimension = x.shape[1]\n",
    "    if output_dimension == 1:\n",
    "        y = y[:, np.newaxis]\n",
    "    else:\n",
    "        output_dimension = y.shape[1]\n",
    "\n",
    "    # initialize the model\n",
    "    model = PyTorchLRModel(input_dimension, output_dimension)\n",
    "\n",
    "    # our error/loss function\n",
    "    criterion = torch.nn.MSELoss()\n",
    "\n",
    "    # define our SGD optimizer\n",
    "    optimiser = torch.optim.SGD(model.parameters(), lr=learning_rate, weight_decay=lambda2)\n",
    "\n",
    "    # loop over our epochs, similar to our previous implementation\n",
    "    losses = []\n",
    "    for epoch in range(epochs):\n",
    "\n",
    "        # increment the epoch count\n",
    "        epoch +=1\n",
    "\n",
    "        # define our feature and response variables\n",
    "        features = Variable(torch.from_numpy(x).float(), requires_grad=True)\n",
    "        response = Variable(torch.from_numpy(y).float())\n",
    "\n",
    "        #clear the gradients\n",
    "        optimiser.zero_grad()\n",
    "\n",
    "        # calculate the predicted values\n",
    "        predictions = model.forward(features)\n",
    "\n",
    "        # calculate our loss\n",
    "        loss = criterion(predictions, response)\n",
    "\n",
    "        # add l1 regularization\n",
    "        if lambda1 > 0.0:\n",
    "            params = torch.cat([x.view(-1) for x in model.linear.parameters()])\n",
    "            l1_regularization = lambda1 * torch.norm(params, 1)\n",
    "            loss += l1_regularization\n",
    "\n",
    "        # implement our gradient-based updates to our\n",
    "        # parammeters (putting them \"back\" into the model\n",
    "        # via a \"backward\" update)\n",
    "        loss.backward()\n",
    "        optimiser.step()\n",
    "        \n",
    "        # append the current loss value\n",
    "        losses.append(loss.data.item())\n",
    "\n",
    "    return model, losses"
   ]
  },
  {
   "cell_type": "markdown",
   "metadata": {},
   "source": [
    "# Import Data"
   ]
  },
  {
   "cell_type": "code",
   "execution_count": 3,
   "metadata": {},
   "outputs": [],
   "source": [
    "s3_client = boto3.client('s3')\n",
    "data_bucket_name='datadan'"
   ]
  },
  {
   "cell_type": "code",
   "execution_count": 8,
   "metadata": {},
   "outputs": [
    {
     "data": {
      "text/html": [
       "<div>\n",
       "<style scoped>\n",
       "    .dataframe tbody tr th:only-of-type {\n",
       "        vertical-align: middle;\n",
       "    }\n",
       "\n",
       "    .dataframe tbody tr th {\n",
       "        vertical-align: top;\n",
       "    }\n",
       "\n",
       "    .dataframe thead th {\n",
       "        text-align: right;\n",
       "    }\n",
       "</style>\n",
       "<table border=\"1\" class=\"dataframe\">\n",
       "  <thead>\n",
       "    <tr style=\"text-align: right;\">\n",
       "      <th></th>\n",
       "      <th>age</th>\n",
       "      <th>sex</th>\n",
       "      <th>bmi</th>\n",
       "      <th>map</th>\n",
       "      <th>tc</th>\n",
       "      <th>ldl</th>\n",
       "      <th>hdl</th>\n",
       "      <th>tch</th>\n",
       "      <th>ltg</th>\n",
       "      <th>glu</th>\n",
       "      <th>y</th>\n",
       "    </tr>\n",
       "  </thead>\n",
       "  <tbody>\n",
       "    <tr>\n",
       "      <th>0</th>\n",
       "      <td>0.038076</td>\n",
       "      <td>0.050680</td>\n",
       "      <td>0.061696</td>\n",
       "      <td>0.021872</td>\n",
       "      <td>-0.044223</td>\n",
       "      <td>-0.034821</td>\n",
       "      <td>-0.043401</td>\n",
       "      <td>-0.002592</td>\n",
       "      <td>0.019908</td>\n",
       "      <td>-0.017646</td>\n",
       "      <td>151.0</td>\n",
       "    </tr>\n",
       "    <tr>\n",
       "      <th>1</th>\n",
       "      <td>0.085299</td>\n",
       "      <td>0.050680</td>\n",
       "      <td>0.044451</td>\n",
       "      <td>-0.005671</td>\n",
       "      <td>-0.045599</td>\n",
       "      <td>-0.034194</td>\n",
       "      <td>-0.032356</td>\n",
       "      <td>-0.002592</td>\n",
       "      <td>0.002864</td>\n",
       "      <td>-0.025930</td>\n",
       "      <td>141.0</td>\n",
       "    </tr>\n",
       "    <tr>\n",
       "      <th>2</th>\n",
       "      <td>-0.089063</td>\n",
       "      <td>-0.044642</td>\n",
       "      <td>-0.011595</td>\n",
       "      <td>-0.036656</td>\n",
       "      <td>0.012191</td>\n",
       "      <td>0.024991</td>\n",
       "      <td>-0.036038</td>\n",
       "      <td>0.034309</td>\n",
       "      <td>0.022692</td>\n",
       "      <td>-0.009362</td>\n",
       "      <td>206.0</td>\n",
       "    </tr>\n",
       "    <tr>\n",
       "      <th>3</th>\n",
       "      <td>0.005383</td>\n",
       "      <td>-0.044642</td>\n",
       "      <td>-0.036385</td>\n",
       "      <td>0.021872</td>\n",
       "      <td>0.003935</td>\n",
       "      <td>0.015596</td>\n",
       "      <td>0.008142</td>\n",
       "      <td>-0.002592</td>\n",
       "      <td>-0.031991</td>\n",
       "      <td>-0.046641</td>\n",
       "      <td>135.0</td>\n",
       "    </tr>\n",
       "    <tr>\n",
       "      <th>4</th>\n",
       "      <td>0.063504</td>\n",
       "      <td>0.050680</td>\n",
       "      <td>-0.001895</td>\n",
       "      <td>0.066630</td>\n",
       "      <td>0.090620</td>\n",
       "      <td>0.108914</td>\n",
       "      <td>0.022869</td>\n",
       "      <td>0.017703</td>\n",
       "      <td>-0.035817</td>\n",
       "      <td>0.003064</td>\n",
       "      <td>63.0</td>\n",
       "    </tr>\n",
       "  </tbody>\n",
       "</table>\n",
       "</div>"
      ],
      "text/plain": [
       "        age       sex       bmi       map        tc       ldl       hdl  \\\n",
       "0  0.038076  0.050680  0.061696  0.021872 -0.044223 -0.034821 -0.043401   \n",
       "1  0.085299  0.050680  0.044451 -0.005671 -0.045599 -0.034194 -0.032356   \n",
       "2 -0.089063 -0.044642 -0.011595 -0.036656  0.012191  0.024991 -0.036038   \n",
       "3  0.005383 -0.044642 -0.036385  0.021872  0.003935  0.015596  0.008142   \n",
       "4  0.063504  0.050680 -0.001895  0.066630  0.090620  0.108914  0.022869   \n",
       "\n",
       "        tch       ltg       glu      y  \n",
       "0 -0.002592  0.019908 -0.017646  151.0  \n",
       "1 -0.002592  0.002864 -0.025930  141.0  \n",
       "2  0.034309  0.022692 -0.009362  206.0  \n",
       "3 -0.002592 -0.031991 -0.046641  135.0  \n",
       "4  0.017703 -0.035817  0.003064   63.0  "
      ]
     },
     "execution_count": 8,
     "metadata": {},
     "output_type": "execute_result"
    }
   ],
   "source": [
    "response = s3_client.get_object(Bucket=data_bucket_name, Key='practical-ai/section2/training.csv')\n",
    "response_body = response[\"Body\"].read()\n",
    "training_data = pd.read_csv(io.BytesIO(response_body), header=0, delimiter=\",\", low_memory=False)\n",
    "training_data.head()"
   ]
  },
  {
   "cell_type": "code",
   "execution_count": 32,
   "metadata": {},
   "outputs": [
    {
     "data": {
      "text/html": [
       "<div>\n",
       "<style scoped>\n",
       "    .dataframe tbody tr th:only-of-type {\n",
       "        vertical-align: middle;\n",
       "    }\n",
       "\n",
       "    .dataframe tbody tr th {\n",
       "        vertical-align: top;\n",
       "    }\n",
       "\n",
       "    .dataframe thead th {\n",
       "        text-align: right;\n",
       "    }\n",
       "</style>\n",
       "<table border=\"1\" class=\"dataframe\">\n",
       "  <thead>\n",
       "    <tr style=\"text-align: right;\">\n",
       "      <th></th>\n",
       "      <th>age</th>\n",
       "      <th>sex</th>\n",
       "      <th>bmi</th>\n",
       "      <th>map</th>\n",
       "      <th>tc</th>\n",
       "      <th>ldl</th>\n",
       "      <th>hdl</th>\n",
       "      <th>tch</th>\n",
       "      <th>ltg</th>\n",
       "      <th>glu</th>\n",
       "      <th>y</th>\n",
       "    </tr>\n",
       "  </thead>\n",
       "  <tbody>\n",
       "    <tr>\n",
       "      <th>0</th>\n",
       "      <td>-0.001882</td>\n",
       "      <td>-0.044642</td>\n",
       "      <td>-0.051474</td>\n",
       "      <td>-0.026328</td>\n",
       "      <td>-0.008449</td>\n",
       "      <td>-0.019163</td>\n",
       "      <td>0.074412</td>\n",
       "      <td>-0.039493</td>\n",
       "      <td>-0.068330</td>\n",
       "      <td>-0.092204</td>\n",
       "      <td>75.0</td>\n",
       "    </tr>\n",
       "    <tr>\n",
       "      <th>1</th>\n",
       "      <td>-0.092695</td>\n",
       "      <td>-0.044642</td>\n",
       "      <td>-0.040696</td>\n",
       "      <td>-0.019442</td>\n",
       "      <td>-0.068991</td>\n",
       "      <td>-0.079288</td>\n",
       "      <td>0.041277</td>\n",
       "      <td>-0.076395</td>\n",
       "      <td>-0.041180</td>\n",
       "      <td>-0.096346</td>\n",
       "      <td>97.0</td>\n",
       "    </tr>\n",
       "    <tr>\n",
       "      <th>2</th>\n",
       "      <td>-0.107226</td>\n",
       "      <td>-0.044642</td>\n",
       "      <td>-0.077342</td>\n",
       "      <td>-0.026328</td>\n",
       "      <td>-0.089630</td>\n",
       "      <td>-0.096198</td>\n",
       "      <td>0.026550</td>\n",
       "      <td>-0.076395</td>\n",
       "      <td>-0.042572</td>\n",
       "      <td>-0.005220</td>\n",
       "      <td>137.0</td>\n",
       "    </tr>\n",
       "    <tr>\n",
       "      <th>3</th>\n",
       "      <td>0.019913</td>\n",
       "      <td>-0.044642</td>\n",
       "      <td>-0.023451</td>\n",
       "      <td>-0.071085</td>\n",
       "      <td>0.020446</td>\n",
       "      <td>-0.010082</td>\n",
       "      <td>0.118591</td>\n",
       "      <td>-0.076395</td>\n",
       "      <td>-0.042572</td>\n",
       "      <td>0.073480</td>\n",
       "      <td>92.0</td>\n",
       "    </tr>\n",
       "    <tr>\n",
       "      <th>4</th>\n",
       "      <td>-0.078165</td>\n",
       "      <td>-0.044642</td>\n",
       "      <td>-0.073030</td>\n",
       "      <td>-0.057314</td>\n",
       "      <td>-0.084126</td>\n",
       "      <td>-0.074277</td>\n",
       "      <td>-0.024993</td>\n",
       "      <td>-0.039493</td>\n",
       "      <td>-0.018118</td>\n",
       "      <td>-0.083920</td>\n",
       "      <td>142.0</td>\n",
       "    </tr>\n",
       "  </tbody>\n",
       "</table>\n",
       "</div>"
      ],
      "text/plain": [
       "        age       sex       bmi       map        tc       ldl       hdl  \\\n",
       "0 -0.001882 -0.044642 -0.051474 -0.026328 -0.008449 -0.019163  0.074412   \n",
       "1 -0.092695 -0.044642 -0.040696 -0.019442 -0.068991 -0.079288  0.041277   \n",
       "2 -0.107226 -0.044642 -0.077342 -0.026328 -0.089630 -0.096198  0.026550   \n",
       "3  0.019913 -0.044642 -0.023451 -0.071085  0.020446 -0.010082  0.118591   \n",
       "4 -0.078165 -0.044642 -0.073030 -0.057314 -0.084126 -0.074277 -0.024993   \n",
       "\n",
       "        tch       ltg       glu      y  \n",
       "0 -0.039493 -0.068330 -0.092204   75.0  \n",
       "1 -0.076395 -0.041180 -0.096346   97.0  \n",
       "2 -0.076395 -0.042572 -0.005220  137.0  \n",
       "3 -0.076395 -0.042572  0.073480   92.0  \n",
       "4 -0.039493 -0.018118 -0.083920  142.0  "
      ]
     },
     "execution_count": 32,
     "metadata": {},
     "output_type": "execute_result"
    }
   ],
   "source": [
    "response = s3_client.get_object(Bucket=data_bucket_name, Key='practical-ai/section2/test.csv')\n",
    "response_body = response[\"Body\"].read()\n",
    "test_data = pd.read_csv(io.BytesIO(response_body), header=0, delimiter=\",\", low_memory=False)\n",
    "test_data.head()"
   ]
  },
  {
   "cell_type": "markdown",
   "metadata": {},
   "source": [
    "# Train model and plot loss vs. epoch number"
   ]
  },
  {
   "cell_type": "code",
   "execution_count": 26,
   "metadata": {},
   "outputs": [],
   "source": [
    "# pick out our features and response for training\n",
    "cols = ['bmi', 'map', 'ldl', 'hdl', 'tch', 'glu', 'ltg', 'y']\n",
    "num_features = len(cols[0:-1])\n",
    "\n",
    "# scale the features and response\n",
    "scaler = MinMaxScaler()\n",
    "train_data = scaler.fit_transform(training_data[cols])\n",
    "\n",
    "# fit our model\n",
    "model, losses = pytorch_lr_fit(np.array(train_data[:, 0:num_features]),\n",
    "        np.array(train_data[:, num_features]), 0.1, 25, 0.0, 0.0)"
   ]
  },
  {
   "cell_type": "code",
   "execution_count": 27,
   "metadata": {},
   "outputs": [
    {
     "data": {
      "text/plain": [
       "<matplotlib.axes._subplots.AxesSubplot at 0x7f87d148b780>"
      ]
     },
     "execution_count": 27,
     "metadata": {},
     "output_type": "execute_result"
    },
    {
     "data": {
      "image/png": "[encoded data removed]",
      "text/plain": [
       "<Figure size 432x288 with 1 Axes>"
      ]
     },
     "metadata": {},
     "output_type": "display_data"
    }
   ],
   "source": [
    "# plot the losses as a function of epoch number\n",
    "loss_df = pd.DataFrame(losses, columns=['loss'])\n",
    "loss_df.plot(logy=True)"
   ]
  },
  {
   "cell_type": "markdown",
   "metadata": {},
   "source": [
    "# Test for various L2 regularization rates "
   ]
  },
  {
   "cell_type": "code",
   "execution_count": 33,
   "metadata": {},
   "outputs": [],
   "source": [
    "# pre-process our test data\n",
    "test_data = scaler.transform(test_data[cols])\n",
    "\n",
    "# test input for the model and observation tensors\n",
    "test_input = Variable(torch.from_numpy(test_data[:, 0:num_features]).float())"
   ]
  },
  {
   "cell_type": "code",
   "execution_count": 43,
   "metadata": {},
   "outputs": [],
   "source": [
    "# the range of regularization rates we will test\n",
    "rates = np.linspace(0.0005,0.02,100)\n",
    "\n",
    "# loop over each rate\n",
    "metrics = []\n",
    "for rate in rates:\n",
    "    \n",
    "    # train model\n",
    "    model, _ = pytorch_lr_fit(np.array(train_data[:, 0:num_features]),\n",
    "                                   np.array(train_data[:, num_features]), 0.1, 1000, 0.0, rate)\n",
    "    \n",
    "    # evaluate the model\n",
    "    predictions = model(test_input)\n",
    "    rmse = math.sqrt(mean_squared_error(predictions.data.numpy(),\n",
    "                                        test_data[:, num_features]))\n",
    "    metrics.append(rmse)"
   ]
  },
  {
   "cell_type": "code",
   "execution_count": 44,
   "metadata": {},
   "outputs": [
    {
     "data": {
      "text/plain": [
       "<matplotlib.axes._subplots.AxesSubplot at 0x7f87d115a048>"
      ]
     },
     "execution_count": 44,
     "metadata": {},
     "output_type": "execute_result"
    },
    {
     "data": {
      "image/png": "[encoded data removed]",
      "text/plain": [
       "<Figure size 432x288 with 1 Axes>"
      ]
     },
     "metadata": {},
     "output_type": "display_data"
    }
   ],
   "source": [
    "# plot the RMSE value as a function of L2 regularization rate\n",
    "l2_df = pd.DataFrame(metrics, columns=['RMSE'])\n",
    "l2_df['l2 reg. rate'] = rates\n",
    "l2_df.set_index('l2 reg. rate').plot()"
   ]
  },
  {
   "cell_type": "code",
   "execution_count": null,
   "metadata": {},
   "outputs": [],
   "source": []
  }
 ],
 "metadata": {
  "kernelspec": {
   "display_name": "conda_pytorch_p36",
   "language": "python",
   "name": "conda_pytorch_p36"
  },
  "language_info": {
   "codemirror_mode": {
    "name": "ipython",
    "version": 3
   },
   "file_extension": ".py",
   "mimetype": "text/x-python",
   "name": "python",
   "nbconvert_exporter": "python",
   "pygments_lexer": "ipython3",
   "version": "3.6.5"
  }
 },
 "nbformat": 4,
 "nbformat_minor": 2
}
